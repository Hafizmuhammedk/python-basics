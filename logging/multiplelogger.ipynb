{
 "cells": [
  {
   "cell_type": "code",
   "execution_count": 1,
   "id": "90147ba2",
   "metadata": {},
   "outputs": [],
   "source": [
    "import logging\n"
   ]
  },
  {
   "cell_type": "code",
   "execution_count": 2,
   "id": "f61295b5",
   "metadata": {},
   "outputs": [],
   "source": [
    "logger1 = logging.getLogger('module1')\n",
    "logger1.setLevel(logging.DEBUG)\n",
    "\n",
    "# logger Module of 2\n",
    "\n",
    "logger2 = logging.getLogger('module2')\n",
    "logger2.setLevel(logging.WARNING)\n",
    "\n",
    "logging.basicConfig(\n",
    "    level=logging.DEBUG,\n",
    "    format='%(asctime)s - %(name)s - %(levelname)s - %(message)s',\n",
    "    datefmt='%Y-%m-%d %H:%M:%S')"
   ]
  },
  {
   "cell_type": "code",
   "execution_count": 3,
   "id": "0eab65ae",
   "metadata": {},
   "outputs": [
    {
     "name": "stderr",
     "output_type": "stream",
     "text": [
      "2025-10-29 15:04:57 - module1 - DEBUG - This is a debug message for logger one\n",
      "2025-10-29 15:04:57 - module2 - WARNING - This is a warning message for module two\n",
      "2025-10-29 15:04:57 - module2 - ERROR - This is an error message\n"
     ]
    }
   ],
   "source": [
    "logger1.debug('This is a debug message for logger one')\n",
    "logger2.warning('This is a warning message for module two')\n",
    "logger2.error('This is an error message')"
   ]
  },
  {
   "cell_type": "code",
   "execution_count": null,
   "id": "34a161d1",
   "metadata": {},
   "outputs": [],
   "source": []
  }
 ],
 "metadata": {
  "kernelspec": {
   "display_name": "base",
   "language": "python",
   "name": "python3"
  },
  "language_info": {
   "codemirror_mode": {
    "name": "ipython",
    "version": 3
   },
   "file_extension": ".py",
   "mimetype": "text/x-python",
   "name": "python",
   "nbconvert_exporter": "python",
   "pygments_lexer": "ipython3",
   "version": "3.13.5"
  }
 },
 "nbformat": 4,
 "nbformat_minor": 5
}
